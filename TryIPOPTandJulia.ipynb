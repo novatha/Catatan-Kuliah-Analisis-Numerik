{
 "cells": [
  {
   "cell_type": "markdown",
   "metadata": {},
   "source": [
    "#How to use IPOPT from Julia"
   ]
  },
  {
   "cell_type": "code",
   "execution_count": 44,
   "metadata": {
    "collapsed": true
   },
   "outputs": [],
   "source": [
    "using JuMP"
   ]
  },
  {
   "cell_type": "code",
   "execution_count": 48,
   "metadata": {
    "collapsed": false
   },
   "outputs": [],
   "source": [
    "using Ipopt"
   ]
  },
  {
   "cell_type": "markdown",
   "metadata": {},
   "source": [
    "## Unconstrained Optimization\n",
    "minimize $(x-1)^2 + (y-2)^2$"
   ]
  },
  {
   "cell_type": "code",
   "execution_count": 55,
   "metadata": {
    "collapsed": false
   },
   "outputs": [
    {
     "name": "stdout",
     "output_type": "stream",
     "text": [
      "x = 1.0 y = 2.0\n"
     ]
    }
   ],
   "source": [
    "using JuMP\n",
    "m = Model()\n",
    "@defVar(m, x, start = 0.0)\n",
    "@defVar(m, y, start = 0.0)\n",
    "\n",
    "@setNLObjective(m, Min, (x-1)^2 + (y-2)^2)\n",
    "\n",
    "solve(m) # Solving the unconstrained problem\n",
    "println(\"x = \", getValue(x), \" y = \", getValue(y))"
   ]
  },
  {
   "cell_type": "code",
   "execution_count": 56,
   "metadata": {
    "collapsed": false
   },
   "outputs": [
    {
     "data": {
      "text/plain": [
       "5.0"
      ]
     },
     "execution_count": 56,
     "metadata": {},
     "output_type": "execute_result"
    }
   ],
   "source": [
    "(getValue(x)^2+getValue(y)^2)"
   ]
  },
  {
   "cell_type": "markdown",
   "metadata": {},
   "source": [
    "## Constrained Optimization\n",
    "minimize $(x-1)^2 + (y-2)^2$\n",
    "\n",
    "subject to:\n",
    "\n",
    "$x^2+y^2 = 9$"
   ]
  },
  {
   "cell_type": "code",
   "execution_count": 57,
   "metadata": {
    "collapsed": false
   },
   "outputs": [
    {
     "name": "stdout",
     "output_type": "stream",
     "text": [
      "x = 1.3416407864998738 y = 2.6832815729997477\n"
     ]
    }
   ],
   "source": [
    "using JuMP\n",
    "m = Model()\n",
    "@defVar(m, x, start = 0.0)\n",
    "@defVar(m, y, start = 0.0)\n",
    "\n",
    "@setNLObjective(m, Min, (x-1)^2 + (y-2)^2)\n",
    "\n",
    "# adding a (linear) constraint\n",
    "@addNLConstraint(m, x^2 + y^2 == 9)\n",
    "solve(m) # Solving the constrained problem\n",
    "println(\"x = \", getValue(x), \" y = \", getValue(y))"
   ]
  },
  {
   "cell_type": "code",
   "execution_count": 46,
   "metadata": {
    "collapsed": false
   },
   "outputs": [
    {
     "data": {
      "text/plain": [
       "9.000000000001517"
      ]
     },
     "execution_count": 46,
     "metadata": {},
     "output_type": "execute_result"
    }
   ],
   "source": [
    "(getValue(x)^2+getValue(y)^2)\n"
   ]
  },
  {
   "cell_type": "code",
   "execution_count": null,
   "metadata": {
    "collapsed": true
   },
   "outputs": [],
   "source": []
  }
 ],
 "metadata": {
  "kernelspec": {
   "display_name": "Julia 0.3.9",
   "language": "julia",
   "name": "julia-0.3"
  },
  "language_info": {
   "name": "julia",
   "version": "0.3.9"
  }
 },
 "nbformat": 4,
 "nbformat_minor": 0
}
